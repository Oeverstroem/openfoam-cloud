{
 "cells": [
  {
   "cell_type": "markdown",
   "metadata": {},
   "source": [
    "Initialize the cloud loader"
   ]
  },
  {
   "cell_type": "code",
   "execution_count": null,
   "metadata": {},
   "outputs": [],
   "source": [
    "%reload_ext autoreload\n",
    "%autoreload 2"
   ]
  },
  {
   "cell_type": "code",
   "execution_count": null,
   "metadata": {},
   "outputs": [],
   "source": [
    "import openfoamcloud.providers.google.google_provider as google_provider\n",
    "cloud_provider = google_provider.GoogleCloud()\n",
    "cloud_provider.initialize()"
   ]
  },
  {
   "cell_type": "markdown",
   "metadata": {},
   "source": [
    "Specify base case path"
   ]
  },
  {
   "cell_type": "code",
   "execution_count": null,
   "metadata": {},
   "outputs": [],
   "source": [
    "base_case_path = \"./base/case_1\"\n",
    "base_case_path = \"/home/vinzenz/Downloads/Case_und_Runscript/OF5_DOE_CarRim_VolFracSpreading_@volt@_@rhop@_@dia_mean_p@_VSolverOnly\""
   ]
  },
  {
   "cell_type": "markdown",
   "metadata": {},
   "source": [
    "Create Project"
   ]
  },
  {
   "cell_type": "code",
   "execution_count": null,
   "metadata": {},
   "outputs": [],
   "source": [
    "project_name = \"test_project_1\"\n",
    "study_name = \"study_1\"\n",
    "cloud_provider.create_project(project_name, base_case_path)"
   ]
  },
  {
   "cell_type": "markdown",
   "metadata": {},
   "source": [
    "Create parameter study"
   ]
  },
  {
   "cell_type": "code",
   "execution_count": null,
   "metadata": {},
   "outputs": [],
   "source": [
    "from math import log10, floor\n",
    "from openfoamcloud.structures.case import InpurtParameter\n",
    "\n",
    "startValue=0.000001#1000 #0.00000500#10000\n",
    "endValue=0.000070 #0.00020500#60000\n",
    "steps=2\n",
    "\n",
    "def round_sig(x, sig=3):\n",
    "  return round(x, sig-int(floor(log10(abs(x))))-1)\n",
    "\n",
    "valueList=[]\n",
    "value=startValue\n",
    "inc=(endValue-startValue)/steps\n",
    "\n",
    "for i in range(steps+1):\n",
    "  value=format(round_sig(startValue+inc*i,4),'.2E') \n",
    "  valueList.append(str(value))\n",
    "\n",
    "\n",
    "input_parameters_dicts = [\n",
    "        { \"path\": \"0/include/initialConditions\",\"variable_name\": \"volt\",\"values\": [\"50000\"]},\n",
    "        { \"path\": \"constant/particleProperties\",\"variable_name\": \"rhop\",\"values\": [\"2300\"]},\n",
    "        { \"path\": \"constant/particleProperties\",\"variable_name\": \"dia_mean_p\",\"values\": [\"0.000075\"]},\n",
    "        { \"path\": \"constant/particleProperties\",\"variable_name\": \"dev_dia_p\",\"values\":valueList}\n",
    "      ]\n",
    "\n",
    "input_parameters = [InpurtParameter(**i) for i in input_parameters_dicts]\n",
    "run_script =  \"cd ./Solver && wclean && wmake && cd .. && MyEstaticChargeDensityDivFoam5_volfrac_homog_V4_1 && pvpython volFrac_Coating_CarRim_V1.py\"\n",
    "\n",
    "cloud_provider.create_parameter_stduy(project_name, study_name, run_script, input_parameters)"
   ]
  },
  {
   "cell_type": "markdown",
   "metadata": {},
   "source": [
    "Show Case Names"
   ]
  },
  {
   "cell_type": "code",
   "execution_count": null,
   "metadata": {},
   "outputs": [],
   "source": [
    "case_names = cloud_provider.get_case_names(project_name, study_name)\n",
    "print(case_names)"
   ]
  },
  {
   "cell_type": "markdown",
   "metadata": {},
   "source": [
    "Run specific case"
   ]
  },
  {
   "cell_type": "code",
   "execution_count": null,
   "metadata": {},
   "outputs": [],
   "source": [
    "cloud_provider.run_case(project_name, study_name, case_names[1], file_logging=False)"
   ]
  },
  {
   "cell_type": "code",
   "execution_count": null,
   "metadata": {},
   "outputs": [],
   "source": [
    "jobs = cloud_provider.get_active_runs()\n",
    "print(jobs)"
   ]
  },
  {
   "cell_type": "code",
   "execution_count": null,
   "metadata": {},
   "outputs": [],
   "source": [
    "import time\n",
    "\n",
    "running_jobs = len(cloud_provider.get_active_runs_by_parameter_study(project_name, study_name))\n",
    "while running_jobs > 0:\n",
    "    running_jobs = len(cloud_provider.get_active_runs_by_parameter_study(project_name, study_name))\n",
    "    print(f\"{running_jobs} jobs running.\")\n",
    "    time.sleep(10)\n"
   ]
  },
  {
   "cell_type": "code",
   "execution_count": null,
   "metadata": {},
   "outputs": [],
   "source": []
  }
 ],
 "metadata": {
  "kernelspec": {
   "display_name": "venv",
   "language": "python",
   "name": "python3"
  },
  "language_info": {
   "codemirror_mode": {
    "name": "ipython",
    "version": 3
   },
   "file_extension": ".py",
   "mimetype": "text/x-python",
   "name": "python",
   "nbconvert_exporter": "python",
   "pygments_lexer": "ipython3",
   "version": "3.11.2"
  }
 },
 "nbformat": 4,
 "nbformat_minor": 2
}
